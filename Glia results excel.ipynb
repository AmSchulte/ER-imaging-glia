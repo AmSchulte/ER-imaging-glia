{
 "cells": [
  {
   "cell_type": "markdown",
   "metadata": {},
   "source": [
    "#### Import necessary libaries"
   ]
  },
  {
   "cell_type": "code",
   "execution_count": 1,
   "metadata": {},
   "outputs": [],
   "source": [
    "import pandas as pd\n",
    "import numpy as np\n",
    "import matplotlib.pyplot as plt\n",
    "from scipy import stats\n",
    "import pywt\n",
    "from scipy.signal import find_peaks, peak_prominences\n",
    "from scipy.signal import argrelextrema\n",
    "import os\n",
    "from pandas import ExcelWriter"
   ]
  },
  {
   "cell_type": "markdown",
   "metadata": {},
   "source": [
    "#### Assign directories"
   ]
  },
  {
   "cell_type": "code",
   "execution_count": 2,
   "metadata": {},
   "outputs": [],
   "source": [
    "directory_ERGCamp6 = 'Data/ER-GCamp6'\n",
    "directory_TED = 'Data/TED'"
   ]
  },
  {
   "cell_type": "markdown",
   "metadata": {},
   "source": [
    "#### Determines the most frequent timepoint of the LED peak.  The application time is 10 frames after the LED peak. Requiere the appoximate time frame of the LED signal."
   ]
  },
  {
   "cell_type": "code",
   "execution_count": 3,
   "metadata": {},
   "outputs": [],
   "source": [
    "def get_application_time(data, led_peak_earliest, led_peak_latest, lag=10):\n",
    "    # get highest peak per cell in video between earliest and latest\n",
    "    LED_max = data.iloc[led_peak_earliest:led_peak_latest,:].idxmax()\n",
    "    \n",
    "    # get most common peak position in video\n",
    "    maxi = np.bincount(LED_max).argmax()\n",
    "    \n",
    "    # add n=lag frames for actual application time\n",
    "    return maxi, maxi + lag"
   ]
  },
  {
   "cell_type": "markdown",
   "metadata": {},
   "source": [
    "#### Wavelet transform of one trace (numpy array)"
   ]
  },
  {
   "cell_type": "code",
   "execution_count": 4,
   "metadata": {},
   "outputs": [],
   "source": [
    "def wavelet_transform(signal, wavelet=\"coif3\"):\n",
    "\n",
    "    ca5, cd5, cd4, cd3, cd2, cd1 = pywt.wavedec(signal, wavelet, level=5)\n",
    "\n",
    "    def thresh(x):\n",
    "        # calculate thresh:\n",
    "        # https://www.hindawi.com/journals/mpe/2016/3195492/\n",
    "        threshold = np.std(x) * np.sqrt(2*np.log(len(x)))\n",
    "        return pywt.threshold(x, threshold)\n",
    "\n",
    "    cd5 = thresh(cd5)\n",
    "    cd4 = thresh(cd4)*0\n",
    "    cd3 = thresh(cd3)*0\n",
    "    cd2 = thresh(cd2)*0\n",
    "    cd1 = thresh(cd1)*0\n",
    "\n",
    "    return pywt.waverec([ca5, cd5, cd4, cd3, cd2, cd1], wavelet)"
   ]
  },
  {
   "cell_type": "markdown",
   "metadata": {},
   "source": [
    "#### Determine threshold for inflection point"
   ]
  },
  {
   "cell_type": "code",
   "execution_count": 5,
   "metadata": {},
   "outputs": [],
   "source": [
    "def get_threshold_inflection(derivative, application_time):\n",
    "    #lower peak detection of the dericative\n",
    "    peaks_pre, peak_heights_pre = find_peaks(-derivative, prominence=0.01)\n",
    "    \n",
    "    #counts peaks that appear before the application of the agonist and cannot result from the agonist\n",
    "    count = 0\n",
    "    for i in peaks_pre:\n",
    "        if i < application_time:\n",
    "            count += 1\n",
    "    # sets the threshold 0.001 bigger than that of the peaks that appeared before the application        \n",
    "    if count > 0:\n",
    "        threshold = np.max(peak_heights_pre['prominences'][:count]) + 0.001\n",
    "    else:\n",
    "        threshold = 0.01\n",
    "    \n",
    "    return threshold"
   ]
  },
  {
   "cell_type": "markdown",
   "metadata": {},
   "source": [
    "#### Determines if cell (one ROI) shows reaction. If so, timepoint of first peak, number of peaks, slope and relative peak height is calculated, else 'no reaction'. Requieres data of one cell and application time."
   ]
  },
  {
   "cell_type": "code",
   "execution_count": 6,
   "metadata": {},
   "outputs": [],
   "source": [
    "def get_results_roi(cell_data, cell_data_ori, application_time, LED_max):\n",
    "    signal = wavelet_transform(cell_data)\n",
    "    extrema = argrelextrema(np.array(signal), np.less)\n",
    "    \n",
    "    dy1 = np.diff(signal)    \n",
    "    \n",
    "    threshold = get_threshold_inflection(dy1, application_time)\n",
    "    \n",
    "    peaks, peak_heights = find_peaks(-dy1, prominence=threshold)\n",
    "    \n",
    "    #get rid of peaks that are not clear oscillations\n",
    "    peaks_osci = [peak for peak in peaks if dy1[peak] <= -0.01]\n",
    "    \n",
    "    #count oscillation peaks in defined time window, because not all videos have the same length \n",
    "    peak_number_thresh = application_time + 700\n",
    "    number_peaks = 0\n",
    "    for i in peaks_osci:\n",
    "        if i <= peak_number_thresh:\n",
    "            number_peaks += 1\n",
    "    \n",
    "    #reaction when more than one peak is detected\n",
    "    if len(peaks) > 0:\n",
    "        #get first inflection point\n",
    "        first_peak = peaks[0]\n",
    "        \n",
    "        #get first low extreme point after infection point\n",
    "        for i in extrema[0]:\n",
    "            if i > peaks[0]: \n",
    "                extrema_first = i\n",
    "                break\n",
    "        \n",
    "        #calculate slope\n",
    "        x = [first_peak-1, first_peak+1]\n",
    "        y = [signal[first_peak-1], signal[first_peak+1]]\n",
    "        slope, intercept, r_value, p_value, std_err = stats.linregress(x,y)\n",
    "        \n",
    "        # calculate relative peak height/signal strength\n",
    "        rel_peak_height = signal[application_time] - signal[extrema_first]\n",
    "        \n",
    "        return first_peak, number_peaks, slope, rel_peak_height\n",
    "     \n",
    "    else: \n",
    "        return 'no reaction'   "
   ]
  },
  {
   "cell_type": "markdown",
   "metadata": {},
   "source": [
    "#### Get results of one csv file"
   ]
  },
  {
   "cell_type": "code",
   "execution_count": 7,
   "metadata": {},
   "outputs": [],
   "source": [
    "def get_results_csv(file):\n",
    "    rois_pre = pd.read_csv(file, sep = '\\t', index_col=0)\n",
    "    rois = rois_pre.drop(labels = [\"Average\", \"Err\"], axis=1)\n",
    "    \n",
    "    #approximate time window of the LED appearance\n",
    "    if len(rois)<=1000:\n",
    "        led_peak_earliest=200\n",
    "        led_peak_latest=300\n",
    "    else:\n",
    "        led_peak_earliest=450\n",
    "        led_peak_latest=600\n",
    "    \n",
    "    LED_max, application_time = get_application_time(rois, led_peak_earliest, led_peak_latest)\n",
    "    \n",
    "    #get indices right\n",
    "    LED_max = LED_max-1\n",
    "    application_time = application_time-1\n",
    "    \n",
    "    # get rid of LED peak for the wavelet transformation because it is artificial\n",
    "    rois_noLED = rois.copy()\n",
    "    LED_min = LED_max - 5\n",
    "    rois_noLED.iloc[LED_max,:] = rois.iloc[LED_min:LED_max,:].mean(axis=0)\n",
    "    \n",
    "    # iterate over rois in csv to get results into one dataframe\n",
    "    reaction_times = []\n",
    "    number_of_peaks = []\n",
    "    slopes = []\n",
    "    rel_peak_heights = []\n",
    "    for i in rois:\n",
    "        results = get_results_roi(rois_noLED[i], rois[i], application_time, LED_max)\n",
    "        if results == \"no reaction\":\n",
    "            number_peaks = 0\n",
    "            reaction_times.append(np.nan)\n",
    "            number_of_peaks.append(number_peaks)\n",
    "            slopes.append(np.nan)\n",
    "            rel_peak_heights.append(np.nan)\n",
    "        else:\n",
    "            first_peak, number_peaks, slope, rel_peak_height = results\n",
    "            reaction_time = (first_peak - application_time)*100\n",
    "            reaction_times.append(reaction_time)\n",
    "            number_of_peaks.append(number_peaks)\n",
    "            slopes.append(slope)\n",
    "            rel_peak_heights.append(rel_peak_height)\n",
    "    return reaction_times, number_of_peaks, slopes, rel_peak_heights"
   ]
  },
  {
   "cell_type": "markdown",
   "metadata": {},
   "source": [
    "#### Apply processing on all csv files in directory and merge all results into a table"
   ]
  },
  {
   "cell_type": "code",
   "execution_count": 8,
   "metadata": {
    "scrolled": true
   },
   "outputs": [],
   "source": [
    "def get_results_all(directory):\n",
    "    Reaction_times = []\n",
    "    Number_of_peaks = [] \n",
    "    Slopes = []\n",
    "    Rel_peak_heights = []\n",
    "    filenames = []\n",
    "    for filename in os.listdir(directory):\n",
    "        if filename.endswith(\".csv\"):\n",
    "            reaction_times, number_of_peaks, slopes, rel_peak_heights = get_results_csv(os.path.join(directory, filename))\n",
    "            filenames.append(filename[0:-4])\n",
    "            Reaction_times.extend(reaction_times)\n",
    "            Number_of_peaks.extend(number_of_peaks)\n",
    "            Slopes.extend(slopes)\n",
    "            Rel_peak_heights.extend(rel_peak_heights)       \n",
    "            result_table = pd.DataFrame( pd.DataFrame(\n",
    "                {'Reaction_times': Reaction_times,\n",
    "                 'Number_of_peaks': Number_of_peaks,\n",
    "                 'Slopes': Slopes,\n",
    "                 'Signal_strength':Rel_peak_heights}))\n",
    "        else:\n",
    "            continue\n",
    "    return result_table"
   ]
  },
  {
   "cell_type": "markdown",
   "metadata": {},
   "source": [
    "#### Apply pipeline"
   ]
  },
  {
   "cell_type": "code",
   "execution_count": 9,
   "metadata": {},
   "outputs": [],
   "source": [
    "ERGCamp6 = get_results_all(directory_ERGCamp6)\n",
    "TED = get_results_all(directory_TED)"
   ]
  },
  {
   "cell_type": "markdown",
   "metadata": {},
   "source": [
    "#### Save result table as an excel file"
   ]
  },
  {
   "cell_type": "code",
   "execution_count": 10,
   "metadata": {},
   "outputs": [
    {
     "ename": "PermissionError",
     "evalue": "[Errno 13] Permission denied: 'ERGCamp6_Results.xlsx'",
     "output_type": "error",
     "traceback": [
      "\u001b[1;31m---------------------------------------------------------------------------\u001b[0m",
      "\u001b[1;31mPermissionError\u001b[0m                           Traceback (most recent call last)",
      "\u001b[1;32m<ipython-input-10-09ebc700506e>\u001b[0m in \u001b[0;36m<module>\u001b[1;34m()\u001b[0m\n\u001b[1;32m----> 1\u001b[1;33m \u001b[0mERGCamp6\u001b[0m\u001b[1;33m.\u001b[0m\u001b[0mto_excel\u001b[0m\u001b[1;33m(\u001b[0m\u001b[1;34m\"ERGCamp6_Results.xlsx\"\u001b[0m\u001b[1;33m)\u001b[0m\u001b[1;33m\u001b[0m\u001b[0m\n\u001b[0m\u001b[0;32m      2\u001b[0m \u001b[0mTED\u001b[0m\u001b[1;33m.\u001b[0m\u001b[0mto_excel\u001b[0m\u001b[1;33m(\u001b[0m\u001b[1;34m\"TED_Results.xlsx\"\u001b[0m\u001b[1;33m)\u001b[0m\u001b[1;33m\u001b[0m\u001b[0m\n",
      "\u001b[1;32m~\\Anaconda3\\lib\\site-packages\\pandas\\core\\frame.py\u001b[0m in \u001b[0;36mto_excel\u001b[1;34m(self, excel_writer, sheet_name, na_rep, float_format, columns, header, index, index_label, startrow, startcol, engine, merge_cells, encoding, inf_rep, verbose, freeze_panes)\u001b[0m\n\u001b[0;32m   1764\u001b[0m         formatter.write(excel_writer, sheet_name=sheet_name, startrow=startrow,\n\u001b[0;32m   1765\u001b[0m                         \u001b[0mstartcol\u001b[0m\u001b[1;33m=\u001b[0m\u001b[0mstartcol\u001b[0m\u001b[1;33m,\u001b[0m \u001b[0mfreeze_panes\u001b[0m\u001b[1;33m=\u001b[0m\u001b[0mfreeze_panes\u001b[0m\u001b[1;33m,\u001b[0m\u001b[1;33m\u001b[0m\u001b[0m\n\u001b[1;32m-> 1766\u001b[1;33m                         engine=engine)\n\u001b[0m\u001b[0;32m   1767\u001b[0m \u001b[1;33m\u001b[0m\u001b[0m\n\u001b[0;32m   1768\u001b[0m     def to_stata(self, fname, convert_dates=None, write_index=True,\n",
      "\u001b[1;32m~\\Anaconda3\\lib\\site-packages\\pandas\\io\\formats\\excel.py\u001b[0m in \u001b[0;36mwrite\u001b[1;34m(self, writer, sheet_name, startrow, startcol, freeze_panes, engine)\u001b[0m\n\u001b[0;32m    652\u001b[0m                            freeze_panes=freeze_panes)\n\u001b[0;32m    653\u001b[0m         \u001b[1;32mif\u001b[0m \u001b[0mneed_save\u001b[0m\u001b[1;33m:\u001b[0m\u001b[1;33m\u001b[0m\u001b[0m\n\u001b[1;32m--> 654\u001b[1;33m             \u001b[0mwriter\u001b[0m\u001b[1;33m.\u001b[0m\u001b[0msave\u001b[0m\u001b[1;33m(\u001b[0m\u001b[1;33m)\u001b[0m\u001b[1;33m\u001b[0m\u001b[0m\n\u001b[0m",
      "\u001b[1;32m~\\Anaconda3\\lib\\site-packages\\pandas\\io\\excel.py\u001b[0m in \u001b[0;36msave\u001b[1;34m(self)\u001b[0m\n\u001b[0;32m   1730\u001b[0m         \"\"\"\n\u001b[0;32m   1731\u001b[0m \u001b[1;33m\u001b[0m\u001b[0m\n\u001b[1;32m-> 1732\u001b[1;33m         \u001b[1;32mreturn\u001b[0m \u001b[0mself\u001b[0m\u001b[1;33m.\u001b[0m\u001b[0mbook\u001b[0m\u001b[1;33m.\u001b[0m\u001b[0mclose\u001b[0m\u001b[1;33m(\u001b[0m\u001b[1;33m)\u001b[0m\u001b[1;33m\u001b[0m\u001b[0m\n\u001b[0m\u001b[0;32m   1733\u001b[0m \u001b[1;33m\u001b[0m\u001b[0m\n\u001b[0;32m   1734\u001b[0m     def write_cells(self, cells, sheet_name=None, startrow=0, startcol=0,\n",
      "\u001b[1;32m~\\Anaconda3\\lib\\site-packages\\xlsxwriter\\workbook.py\u001b[0m in \u001b[0;36mclose\u001b[1;34m(self)\u001b[0m\n\u001b[0;32m    309\u001b[0m         \u001b[1;32mif\u001b[0m \u001b[1;32mnot\u001b[0m \u001b[0mself\u001b[0m\u001b[1;33m.\u001b[0m\u001b[0mfileclosed\u001b[0m\u001b[1;33m:\u001b[0m\u001b[1;33m\u001b[0m\u001b[0m\n\u001b[0;32m    310\u001b[0m             \u001b[0mself\u001b[0m\u001b[1;33m.\u001b[0m\u001b[0mfileclosed\u001b[0m \u001b[1;33m=\u001b[0m \u001b[1;36m1\u001b[0m\u001b[1;33m\u001b[0m\u001b[0m\n\u001b[1;32m--> 311\u001b[1;33m             \u001b[0mself\u001b[0m\u001b[1;33m.\u001b[0m\u001b[0m_store_workbook\u001b[0m\u001b[1;33m(\u001b[0m\u001b[1;33m)\u001b[0m\u001b[1;33m\u001b[0m\u001b[0m\n\u001b[0m\u001b[0;32m    312\u001b[0m \u001b[1;33m\u001b[0m\u001b[0m\n\u001b[0;32m    313\u001b[0m     \u001b[1;32mdef\u001b[0m \u001b[0mset_size\u001b[0m\u001b[1;33m(\u001b[0m\u001b[0mself\u001b[0m\u001b[1;33m,\u001b[0m \u001b[0mwidth\u001b[0m\u001b[1;33m,\u001b[0m \u001b[0mheight\u001b[0m\u001b[1;33m)\u001b[0m\u001b[1;33m:\u001b[0m\u001b[1;33m\u001b[0m\u001b[0m\n",
      "\u001b[1;32m~\\Anaconda3\\lib\\site-packages\\xlsxwriter\\workbook.py\u001b[0m in \u001b[0;36m_store_workbook\u001b[1;34m(self)\u001b[0m\n\u001b[0;32m    638\u001b[0m \u001b[1;33m\u001b[0m\u001b[0m\n\u001b[0;32m    639\u001b[0m         xlsx_file = ZipFile(self.filename, \"w\", compression=ZIP_DEFLATED,\n\u001b[1;32m--> 640\u001b[1;33m                             allowZip64=self.allow_zip64)\n\u001b[0m\u001b[0;32m    641\u001b[0m \u001b[1;33m\u001b[0m\u001b[0m\n\u001b[0;32m    642\u001b[0m         \u001b[1;31m# Add XML sub-files to the Zip file with their Excel filename.\u001b[0m\u001b[1;33m\u001b[0m\u001b[1;33m\u001b[0m\u001b[0m\n",
      "\u001b[1;32m~\\Anaconda3\\lib\\zipfile.py\u001b[0m in \u001b[0;36m__init__\u001b[1;34m(self, file, mode, compression, allowZip64)\u001b[0m\n\u001b[0;32m   1088\u001b[0m             \u001b[1;32mwhile\u001b[0m \u001b[1;32mTrue\u001b[0m\u001b[1;33m:\u001b[0m\u001b[1;33m\u001b[0m\u001b[0m\n\u001b[0;32m   1089\u001b[0m                 \u001b[1;32mtry\u001b[0m\u001b[1;33m:\u001b[0m\u001b[1;33m\u001b[0m\u001b[0m\n\u001b[1;32m-> 1090\u001b[1;33m                     \u001b[0mself\u001b[0m\u001b[1;33m.\u001b[0m\u001b[0mfp\u001b[0m \u001b[1;33m=\u001b[0m \u001b[0mio\u001b[0m\u001b[1;33m.\u001b[0m\u001b[0mopen\u001b[0m\u001b[1;33m(\u001b[0m\u001b[0mfile\u001b[0m\u001b[1;33m,\u001b[0m \u001b[0mfilemode\u001b[0m\u001b[1;33m)\u001b[0m\u001b[1;33m\u001b[0m\u001b[0m\n\u001b[0m\u001b[0;32m   1091\u001b[0m                 \u001b[1;32mexcept\u001b[0m \u001b[0mOSError\u001b[0m\u001b[1;33m:\u001b[0m\u001b[1;33m\u001b[0m\u001b[0m\n\u001b[0;32m   1092\u001b[0m                     \u001b[1;32mif\u001b[0m \u001b[0mfilemode\u001b[0m \u001b[1;32min\u001b[0m \u001b[0mmodeDict\u001b[0m\u001b[1;33m:\u001b[0m\u001b[1;33m\u001b[0m\u001b[0m\n",
      "\u001b[1;31mPermissionError\u001b[0m: [Errno 13] Permission denied: 'ERGCamp6_Results.xlsx'"
     ]
    }
   ],
   "source": [
    "ERGCamp6.to_excel(\"ERGCamp6_Results.xlsx\")\n",
    "TED.to_excel(\"TED_Results.xlsx\")"
   ]
  }
 ],
 "metadata": {
  "kernelspec": {
   "display_name": "Python 3",
   "language": "python",
   "name": "python3"
  },
  "language_info": {
   "codemirror_mode": {
    "name": "ipython",
    "version": 3
   },
   "file_extension": ".py",
   "mimetype": "text/x-python",
   "name": "python",
   "nbconvert_exporter": "python",
   "pygments_lexer": "ipython3",
   "version": "3.6.5"
  }
 },
 "nbformat": 4,
 "nbformat_minor": 1
}
